{
 "cells": [
  {
   "cell_type": "markdown",
   "metadata": {},
   "source": [
    "## **ΥΠΟΛΟΓΙΣΤΙΚΗ ΕΡΓΑΣΙΑ IV: Χρονική εξέλιξη μιας κατάστασης σπιν $|s\\rangle$ εντός σταθερού μαγνητικού πεδίου**\n",
    "\n",
    "Θεωρήστε ένα κβαντικό σωματίδιο με αρχική κατάσταση σπιν $|s \\rangle =\\frac{1}{\\sqrt{2}}\\begin{bmatrix} 1 \\\\ 1\\end{bmatrix}$ τη χρονική στιγμή $t=0$. Στο σωματίδιο εφαρμόζεται εξωτερικό σταθερό μαγνητικό πεδίο, παράλληλο προς τον άξονα z: $\\vec{B}//\\vec{e_z}$. Χρησιμοποιώντας τις δυνατότητες γραμμικής άλγεβρας της `SymPy`, ολοκληρώστε τις ακόλουθες ερωτήσεις.\n",
    "\n",
    "**Παρατηρήσεις/Υποδείξεις:**\n",
    "\n",
    "1. Ο γενικός τύπος του τελεστή χρονικής εξέλιξης για μια κατάσταση σπιν, όταν ένα εξωτερικό μαγνητικό πεδίο $\\vec{B}$ εφαρμόζεται είναι: $$\\hat{U}(t) = e^{-iωt(\\vec{σ}\\cdot \\vec{B})}=cos(ωt)I_{2x2}-i (\\vec{σ}\\cdot \\vec{n})sin(ωt)$$ όπου $I_{2x2}$ είναι ο $2x2$ ταυτοτικός πίνακας, $\\vec{n}=\\frac{\\vec{B}}{|\\vec{B}|}$ και $\\vec{σ}=σ_1 \\vec{e_x} + σ_2 \\vec{e_y} + σ_3 \\vec{e_z}$ (με $σ_i$, $i=1,2,3$ τους πίνακες *Pauli*).\n",
    "\n",
    "2. Η μέση τιμή $\\langle \\hat{A} \\rangle_ψ$ ενός ερμιτιανού τελεστή $\\hat{A}$, ως προς μια κβαντική κατάσταση $|ψ\\rangle$ είναι ίση με: $$\\langle\\hat{A} \\rangle_ψ = \\langle ψ|\\hat{A}|ψ\\rangle$$\n",
    "\n",
    "3. Το διάνυσμα-τελεστής σπιν συνδέεται με το διάνυσμα-τελεστή των πινάκων Pauli μέσω της σχέσης:\n",
    "$$\\vec{s}=\\frac{\\hbar}{2}\\vec{σ}$$"
   ]
  },
  {
   "cell_type": "markdown",
   "metadata": {},
   "source": [
    "**Προετοιμασία**"
   ]
  },
  {
   "cell_type": "code",
   "execution_count": 165,
   "metadata": {},
   "outputs": [],
   "source": [
    "# Φορτώνουμε τη βιβλιοθήκη SymPy\n",
    "import sympy as smp"
   ]
  },
  {
   "cell_type": "code",
   "execution_count": 166,
   "metadata": {},
   "outputs": [
    {
     "data": {
      "text/latex": [
       "$\\displaystyle \\left[\\begin{matrix}0 & 1\\\\1 & 0\\end{matrix}\\right]$"
      ],
      "text/plain": [
       "Matrix([\n",
       "[0, 1],\n",
       "[1, 0]])"
      ]
     },
     "metadata": {},
     "output_type": "display_data"
    },
    {
     "data": {
      "text/latex": [
       "$\\displaystyle \\left[\\begin{matrix}0 & - i\\\\i & 0\\end{matrix}\\right]$"
      ],
      "text/plain": [
       "Matrix([\n",
       "[0, -I],\n",
       "[I,  0]])"
      ]
     },
     "metadata": {},
     "output_type": "display_data"
    },
    {
     "data": {
      "text/latex": [
       "$\\displaystyle \\left[\\begin{matrix}1 & 0\\\\0 & -1\\end{matrix}\\right]$"
      ],
      "text/plain": [
       "Matrix([\n",
       "[1,  0],\n",
       "[0, -1]])"
      ]
     },
     "metadata": {},
     "output_type": "display_data"
    },
    {
     "data": {
      "text/latex": [
       "$\\displaystyle \\left[\\begin{matrix}1 & 0\\\\0 & 1\\end{matrix}\\right]$"
      ],
      "text/plain": [
       "Matrix([\n",
       "[1, 0],\n",
       "[0, 1]])"
      ]
     },
     "metadata": {},
     "output_type": "display_data"
    },
    {
     "data": {
      "text/latex": [
       "$\\displaystyle \\left[\\begin{matrix}\\frac{\\sqrt{2}}{2}\\\\\\frac{\\sqrt{2}}{2}\\end{matrix}\\right]$"
      ],
      "text/plain": [
       "Matrix([\n",
       "[sqrt(2)/2],\n",
       "[sqrt(2)/2]])"
      ]
     },
     "metadata": {},
     "output_type": "display_data"
    }
   ],
   "source": [
    "# Ορισμός χρήσιμων συμβόλων\n",
    "t,omega,hbar = smp.symbols(\"t ω hbar\",positive=True)\n",
    "i = smp.I\n",
    "\n",
    "# Ορίστε τους πίνακς Pauli και εκτυπώστε τους\n",
    "sigma_1 = smp.Matrix([[0,1],[1,0]]) # στη θέση του 1 να αντικαταστήσετε την σωστή μορφή του πίνακα σ_1 = σ_x\n",
    "sigma_2 = smp.Matrix([[0,-i],[i,0]]) # στη θέση του 2 να αντικαταστήσετε την σωστή μορφή του πίνακα σ_2 = σ_y\n",
    "sigma_3 = smp.Matrix([[1,0],[0,-1]]) # στη θέση του 3 να αντικαταστήσετε την σωστή μορφή του πίνακα σ_3 = σ_z\n",
    "\n",
    "display(sigma_1)\n",
    "display(sigma_2)\n",
    "display(sigma_3)\n",
    "\n",
    "# Ορίστε τον ταυτοτικό πίνακα 2x2 και εκτυπώστε τον\n",
    "iden_2x2 = smp.Matrix([[1,0],[0,1]]) # αντί για το 4 γράψτε την σωστή μορφή\n",
    "\n",
    "display(iden_2x2)\n",
    "\n",
    "# Ορίστε την αρχική κατάσταση-spin σε μορφή πίνακα και εκτυπώστε την\n",
    "spin_init = smp.Matrix([1/smp.sqrt(2),1/smp.sqrt(2)]) # αντί για το 5 γράψτε την σωστή μορφή\n",
    "\n",
    "display(spin_init)"
   ]
  },
  {
   "cell_type": "markdown",
   "metadata": {},
   "source": [
    "**Ερώτηση 1** \n",
    "\n",
    "Δείξτε ότι ο τελεστής της χρονικής εξέλιξης $\\hat{U}(t)$ (της spin-κατάστασης του σωματιδίου) έχει την ακόλουθη μορφή μήτρας: \n",
    "$$\\begin{bmatrix} e^{-iωt} & 0 \\\\ 0 & e^{iωt}\\end{bmatrix} ή \\begin{bmatrix} cos(ωt)-isin(ωt) & 0 \\\\ 0 & cos(ωt)+isin(ωt)\\end{bmatrix}$$\n",
    "Εξηγήστε στο παρακάτω **Markdown** κελί το σκεπτικό σας για να καταλήξετε στο συγκεκριμένο αποτέλεσμα."
   ]
  },
  {
   "cell_type": "markdown",
   "metadata": {},
   "source": [
    "**Εξήγηση**\n"
   ]
  },
  {
   "cell_type": "markdown",
   "metadata": {},
   "source": []
  },
  {
   "cell_type": "code",
   "execution_count": 170,
   "metadata": {},
   "outputs": [
    {
     "ename": "ValueError",
     "evalue": "[1, 1, 1] is not an integer",
     "output_type": "error",
     "traceback": [
      "\u001b[1;31m---------------------------------------------------------------------------\u001b[0m",
      "\u001b[1;31mTypeError\u001b[0m                                 Traceback (most recent call last)",
      "File \u001b[1;32m~\\anaconda3\\Lib\\site-packages\\sympy\\utilities\\misc.py:555\u001b[0m, in \u001b[0;36mas_int\u001b[1;34m(n, strict)\u001b[0m\n\u001b[0;32m    554\u001b[0m         \u001b[38;5;28;01mraise\u001b[39;00m \u001b[38;5;167;01mTypeError\u001b[39;00m\n\u001b[1;32m--> 555\u001b[0m     \u001b[38;5;28;01mreturn\u001b[39;00m operator\u001b[38;5;241m.\u001b[39mindex(n)\n\u001b[0;32m    556\u001b[0m \u001b[38;5;28;01mexcept\u001b[39;00m \u001b[38;5;167;01mTypeError\u001b[39;00m:\n",
      "\u001b[1;31mTypeError\u001b[0m: 'list' object cannot be interpreted as an integer",
      "\nDuring handling of the above exception, another exception occurred:\n",
      "\u001b[1;31mValueError\u001b[0m                                Traceback (most recent call last)",
      "Cell \u001b[1;32mIn[170], line 6\u001b[0m\n\u001b[0;32m      4\u001b[0m ez\u001b[38;5;241m=\u001b[39msmp\u001b[38;5;241m.\u001b[39mMatrix([\u001b[38;5;241m0\u001b[39m,\u001b[38;5;241m0\u001b[39m,\u001b[38;5;241m1\u001b[39m])\n\u001b[0;32m      5\u001b[0m sigma\u001b[38;5;241m=\u001b[39m(smp\u001b[38;5;241m.\u001b[39mDeterminant(sigma_1)\u001b[38;5;241m*\u001b[39mex\u001b[38;5;241m+\u001b[39msmp\u001b[38;5;241m.\u001b[39mDeterminant(sigma_2)\u001b[38;5;241m*\u001b[39mey\u001b[38;5;241m+\u001b[39msmp\u001b[38;5;241m.\u001b[39mDeterminant(sigma_3)\u001b[38;5;241m*\u001b[39mez)\n\u001b[1;32m----> 6\u001b[0m n\u001b[38;5;241m=\u001b[39msmp\u001b[38;5;241m.\u001b[39mMatrix([\u001b[38;5;241m1\u001b[39m,\u001b[38;5;241m1\u001b[39m,\u001b[38;5;241m1\u001b[39m],[\u001b[38;5;241m1\u001b[39m,\u001b[38;5;241m0\u001b[39m,\u001b[38;5;241m0\u001b[39m],[\u001b[38;5;241m0\u001b[39m,\u001b[38;5;241m1\u001b[39m,\u001b[38;5;241m0\u001b[39m])\n\u001b[0;32m      7\u001b[0m sigma_n\u001b[38;5;241m=\u001b[39mn\u001b[38;5;241m*\u001b[39msigma\n\u001b[0;32m      8\u001b[0m \u001b[38;5;28;01mdef\u001b[39;00m \u001b[38;5;21mU\u001b[39m(t,omega):\n",
      "File \u001b[1;32m~\\anaconda3\\Lib\\site-packages\\sympy\\matrices\\repmatrix.py:558\u001b[0m, in \u001b[0;36mMutableRepMatrix.__new__\u001b[1;34m(cls, *args, **kwargs)\u001b[0m\n\u001b[0;32m    557\u001b[0m \u001b[38;5;28;01mdef\u001b[39;00m \u001b[38;5;21m__new__\u001b[39m(\u001b[38;5;28mcls\u001b[39m, \u001b[38;5;241m*\u001b[39margs, \u001b[38;5;241m*\u001b[39m\u001b[38;5;241m*\u001b[39mkwargs):\n\u001b[1;32m--> 558\u001b[0m     \u001b[38;5;28;01mreturn\u001b[39;00m \u001b[38;5;28mcls\u001b[39m\u001b[38;5;241m.\u001b[39m_new(\u001b[38;5;241m*\u001b[39margs, \u001b[38;5;241m*\u001b[39m\u001b[38;5;241m*\u001b[39mkwargs)\n",
      "File \u001b[1;32m~\\anaconda3\\Lib\\site-packages\\sympy\\matrices\\repmatrix.py:569\u001b[0m, in \u001b[0;36mMutableRepMatrix._new\u001b[1;34m(cls, copy, *args, **kwargs)\u001b[0m\n\u001b[0;32m    567\u001b[0m     rows, cols, flat_list \u001b[38;5;241m=\u001b[39m args\n\u001b[0;32m    568\u001b[0m \u001b[38;5;28;01melse\u001b[39;00m:\n\u001b[1;32m--> 569\u001b[0m     rows, cols, flat_list \u001b[38;5;241m=\u001b[39m \u001b[38;5;28mcls\u001b[39m\u001b[38;5;241m.\u001b[39m_handle_creation_inputs(\u001b[38;5;241m*\u001b[39margs, \u001b[38;5;241m*\u001b[39m\u001b[38;5;241m*\u001b[39mkwargs)\n\u001b[0;32m    570\u001b[0m     flat_list \u001b[38;5;241m=\u001b[39m \u001b[38;5;28mlist\u001b[39m(flat_list) \u001b[38;5;66;03m# create a shallow copy\u001b[39;00m\n\u001b[0;32m    572\u001b[0m rep \u001b[38;5;241m=\u001b[39m \u001b[38;5;28mcls\u001b[39m\u001b[38;5;241m.\u001b[39m_flat_list_to_DomainMatrix(rows, cols, flat_list)\n",
      "File \u001b[1;32m~\\anaconda3\\Lib\\site-packages\\sympy\\matrices\\matrixbase.py:3982\u001b[0m, in \u001b[0;36mMatrixBase._handle_creation_inputs\u001b[1;34m(cls, *args, **kwargs)\u001b[0m\n\u001b[0;32m   3979\u001b[0m             cols \u001b[38;5;241m=\u001b[39m ncol\u001b[38;5;241m.\u001b[39mpop() \u001b[38;5;28;01mif\u001b[39;00m ncol \u001b[38;5;28;01melse\u001b[39;00m \u001b[38;5;241m0\u001b[39m\n\u001b[0;32m   3981\u001b[0m \u001b[38;5;28;01melif\u001b[39;00m \u001b[38;5;28mlen\u001b[39m(args) \u001b[38;5;241m==\u001b[39m \u001b[38;5;241m3\u001b[39m:\n\u001b[1;32m-> 3982\u001b[0m     rows \u001b[38;5;241m=\u001b[39m as_int(args[\u001b[38;5;241m0\u001b[39m])\n\u001b[0;32m   3983\u001b[0m     cols \u001b[38;5;241m=\u001b[39m as_int(args[\u001b[38;5;241m1\u001b[39m])\n\u001b[0;32m   3985\u001b[0m     \u001b[38;5;28;01mif\u001b[39;00m rows \u001b[38;5;241m<\u001b[39m \u001b[38;5;241m0\u001b[39m \u001b[38;5;129;01mor\u001b[39;00m cols \u001b[38;5;241m<\u001b[39m \u001b[38;5;241m0\u001b[39m:\n",
      "File \u001b[1;32m~\\anaconda3\\Lib\\site-packages\\sympy\\utilities\\misc.py:557\u001b[0m, in \u001b[0;36mas_int\u001b[1;34m(n, strict)\u001b[0m\n\u001b[0;32m    555\u001b[0m         \u001b[38;5;28;01mreturn\u001b[39;00m operator\u001b[38;5;241m.\u001b[39mindex(n)\n\u001b[0;32m    556\u001b[0m     \u001b[38;5;28;01mexcept\u001b[39;00m \u001b[38;5;167;01mTypeError\u001b[39;00m:\n\u001b[1;32m--> 557\u001b[0m         \u001b[38;5;28;01mraise\u001b[39;00m \u001b[38;5;167;01mValueError\u001b[39;00m(\u001b[38;5;124m'\u001b[39m\u001b[38;5;132;01m%s\u001b[39;00m\u001b[38;5;124m is not an integer\u001b[39m\u001b[38;5;124m'\u001b[39m \u001b[38;5;241m%\u001b[39m (n,))\n\u001b[0;32m    558\u001b[0m \u001b[38;5;28;01melse\u001b[39;00m:\n\u001b[0;32m    559\u001b[0m     \u001b[38;5;28;01mtry\u001b[39;00m:\n",
      "\u001b[1;31mValueError\u001b[0m: [1, 1, 1] is not an integer"
     ]
    }
   ],
   "source": [
    "# Ορισμός και εκτύπωση του τελεστή χρονικής εξέλιξης\n",
    "ex=smp.Matrix([1,0,0])\n",
    "ey=smp.Matrix([0,1,0])\n",
    "ez=smp.Matrix([0,0,1])\n",
    "sigma=(smp.Determinant(sigma_1)*ex+smp.Determinant(sigma_2)*ey+smp.Determinant(sigma_3)*ez)\n",
    "n=smp.Matrix([1,1,1],[1,0,0],[0,1,0])\n",
    "sigma_n=n*sigma\n",
    "def U(t,omega):\n",
    "    return smp.cos(t*omega)*iden_2x2-i*sigma_n*smp.sin(t*omega)\n",
    "    return smp.simplify(U(t,omega))\n",
    "\n",
    "# εντός της εντολής simplify γράψτε τον σωστό τύπο του τελεστή χρονικής εξέλιξης\n",
    "# δοκιμάστε επίσης να επιστρέψετε την μορφή του τελεστή και χωρίς την εντολή simplify\n",
    "\n",
    "display(U(t,omega))"
   ]
  },
  {
   "cell_type": "markdown",
   "metadata": {},
   "source": [
    "**Ερώτηση 2** \n",
    "\n",
    "**α)** Ορίστε μια συνάρτηση που επιστρέφει τη χρονική εξέλιξη της κατάστασης σπιν του σωματιδίου $|s(t)\\rangle$ σε μορφή μήτρας και εμφανίστε τη συμβολική μορφή της $|s(t)\\rangle$.\n",
    "\n",
    "**Βοήθεια**\n",
    "\n",
    "Για να λάβουμε την χρονική εξέλιξη $|s(t)\\rangle$ της spin-κατάστασης ενός σωματιδίου, αρκεί να εφαρμόσουμε τον τελεστή $\\hat{U}(t)$, πολλαπλασιάζοντας την αρχική spin-κατάσταση $|s\\rangle$ από τα αριστερά. Δηλαδή:\n",
    "\n",
    "$$|s(t)\\rangle=\\hat{U}(t)|s\\rangle$$"
   ]
  },
  {
   "cell_type": "code",
   "execution_count": null,
   "metadata": {},
   "outputs": [],
   "source": [
    "# Ορισμός και εκτύπωση της χρονικής εξέλιξης της spin-κατάστασης\n",
    "# του σωματιδίου\n",
    "\n",
    "def spin_t(t,omega):\n",
    "    return U(t,omega)*spin_init\n",
    "    return smp.simplify(spin_t(t,omega))\n",
    "\n",
    "# εντός της εντολής simplify γράψτε τον σωστό τύπο\n",
    "# της χρονικής εξέλιξης της spin-κατάστασης\n",
    "\n",
    "display(spin_t(t,omega))"
   ]
  },
  {
   "cell_type": "markdown",
   "metadata": {},
   "source": [
    "**β)** Βρείτε την μορφή της $|s(t)\\rangle$ τη χρονική στιγμή $t=2s$, όταν $ω=\\frac{π}{3}Hz$."
   ]
  },
  {
   "cell_type": "code",
   "execution_count": null,
   "metadata": {},
   "outputs": [],
   "source": [
    "t=2\n",
    "omega=smp.pi/3\n",
    "return spin_t(t,omega)"
   ]
  },
  {
   "cell_type": "markdown",
   "metadata": {},
   "source": [
    "**Ερώτηση 3** \n",
    "\n",
    "**α)** Βρείτε τη συμβολική μορφή των ακόλουθων μέσων τιμών: $\\langle \\hat{s}_x \\rangle_t$, $\\langle \\hat{s}_y \\rangle_t$ και $\\langle \\hat{s}_z \\rangle_t$, ως προς την κατάσταση σπιν $|s(t)\\rangle$. "
   ]
  },
  {
   "cell_type": "code",
   "execution_count": 176,
   "metadata": {},
   "outputs": [
    {
     "data": {
      "text/latex": [
       "$\\displaystyle \\frac{\\hbar}{2} \\left[\\begin{matrix}1 & 0\\\\0 & 1\\end{matrix}\\right]$"
      ],
      "text/plain": [
       "(hbar/2)*Matrix([\n",
       "[1, 0],\n",
       "[0, 1]])"
      ]
     },
     "metadata": {},
     "output_type": "display_data"
    },
    {
     "data": {
      "text/latex": [
       "$\\displaystyle \\frac{\\hbar}{2} \\left[\\begin{matrix}-1 & 0\\\\0 & -1\\end{matrix}\\right]$"
      ],
      "text/plain": [
       "(hbar/2)*Matrix([\n",
       "[-1,  0],\n",
       "[ 0, -1]])"
      ]
     },
     "metadata": {},
     "output_type": "display_data"
    },
    {
     "data": {
      "text/latex": [
       "$\\displaystyle \\frac{\\hbar}{2} \\left[\\begin{matrix}1 & 0\\\\0 & 1\\end{matrix}\\right]$"
      ],
      "text/plain": [
       "(hbar/2)*Matrix([\n",
       "[1, 0],\n",
       "[0, 1]])"
      ]
     },
     "metadata": {},
     "output_type": "display_data"
    }
   ],
   "source": [
    "# Ορισμός και εκτύπωση των spin-πινάκων s_x,s_y και s_z\n",
    "s_x = smp.Transpose(sigma_1)*(hbar/2)*sigma_1\n",
    "s_y = smp.Transpose(sigma_2)*(hbar/2)*sigma_2\n",
    "s_z = smp.Transpose(sigma_3)*(hbar/2)*sigma_3\n",
    "\n",
    "# γράψτε παραπάνω τον σωστό τύπο των πινάκων s_x,s_y και s_z\n",
    "\n",
    "display(s_x)\n",
    "display(s_y)\n",
    "display(s_z)"
   ]
  },
  {
   "cell_type": "code",
   "execution_count": 178,
   "metadata": {},
   "outputs": [
    {
     "data": {
      "text/latex": [
       "$\\displaystyle \\frac{\\hbar}{2} \\left[\\begin{matrix}1 & 0\\\\0 & 1\\end{matrix}\\right]$"
      ],
      "text/plain": [
       "(hbar/2)*Matrix([\n",
       "[1, 0],\n",
       "[0, 1]])"
      ]
     },
     "metadata": {},
     "output_type": "display_data"
    },
    {
     "data": {
      "text/latex": [
       "$\\displaystyle \\frac{\\hbar}{2} \\left[\\begin{matrix}-1 & 0\\\\0 & -1\\end{matrix}\\right]$"
      ],
      "text/plain": [
       "(hbar/2)*Matrix([\n",
       "[-1,  0],\n",
       "[ 0, -1]])"
      ]
     },
     "metadata": {},
     "output_type": "display_data"
    },
    {
     "data": {
      "text/latex": [
       "$\\displaystyle \\frac{\\hbar}{2} \\left[\\begin{matrix}1 & 0\\\\0 & 1\\end{matrix}\\right]$"
      ],
      "text/plain": [
       "(hbar/2)*Matrix([\n",
       "[1, 0],\n",
       "[0, 1]])"
      ]
     },
     "metadata": {},
     "output_type": "display_data"
    }
   ],
   "source": [
    "# Εύρεση και εκτύπωση των ζητούμενων μέσων τιμών\n",
    "mean_s_x = smp.simplify(s_x) # <s_x>(t)\n",
    "mean_s_y = smp.simplify(s_y) # <s_y>(t)\n",
    "mean_s_z = smp.simplify(s_z) # <s_z>(t)\n",
    "\n",
    "# εντός των εντολών simplify γράψτε τους σωστούς τύπους\n",
    "# για τις ζητούμενες μέσες τιμές\n",
    "\n",
    "display(mean_s_x)\n",
    "display(mean_s_y)\n",
    "display(mean_s_z)"
   ]
  },
  {
   "cell_type": "markdown",
   "metadata": {},
   "source": [
    "**β)** Ορίστε τις μέσες τιμές $\\langle \\hat{s}_x \\rangle_t$ και $\\langle \\hat{s}_y \\rangle_t$ ως αριθμητικές συναρτήσεις των $t$ και $ω$, χρησιμοποιώντας την εντολή `lambdify()`. Θεωρείστε ότι $\\hbar=1$, $ω=\\frac{π}{4}Hz$ και δημιουργήστε ένα `NumPy` linspace 100 σημείων του $t$, στο διάστημα $[0,4]s$. Φτιάξτε μια γραφική παράσταση χρησιμοποιώντας τις τιμές της αριθμητικής συνάρτησης $\\langle \\hat{s}_x \\rangle_t$ στα σημεία του linspace ως συντεταγμένες στον οριζόντιο άξονα και τις τιμές της αριθμητικής συνάρτησης $\\langle \\hat{s}_y \\rangle_t$ στα σημεία του linspace ως συντεταγμένες στον κατακόρυφο άξονα. Σχολιάστε το αποτέλεσμα."
   ]
  },
  {
   "cell_type": "code",
   "execution_count": 186,
   "metadata": {},
   "outputs": [
    {
     "ename": "SyntaxError",
     "evalue": "cannot assign to function call here. Maybe you meant '==' instead of '='? (1411318760.py, line 3)",
     "output_type": "error",
     "traceback": [
      "\u001b[1;36m  Cell \u001b[1;32mIn[186], line 3\u001b[1;36m\u001b[0m\n\u001b[1;33m    mean_s_x_num(t_space,omega_val) = smp.lambdify([t,omega],mean_s_x,\"numpy\")\u001b[0m\n\u001b[1;37m    ^\u001b[0m\n\u001b[1;31mSyntaxError\u001b[0m\u001b[1;31m:\u001b[0m cannot assign to function call here. Maybe you meant '==' instead of '='?\n"
     ]
    }
   ],
   "source": [
    "# αντί για 14 ή/και 15 να αντικαταστήσετε την σωστή παράσταση που θα\n",
    "# μεταγλωττιστεί σε αριθμητική συνάρτηση\n",
    "mean_s_x_num(t_space,omega_val) = smp.lambdify([t,omega],mean_s_x,\"numpy\")\n",
    "mean_s_y_num(t_space,omega_val) = smp.lambdify([t,omega],mean_s_y,\"numpy\")\n",
    "\n",
    "from numpy import * # να εισάγετε μόνο την εντολή linspace και το pi από την NumPy\n",
    "t_space = linspace(0,4,100) # φτιάξτε το ζητούμενο linspace\n",
    "\n",
    "# εισαγωγή της βιβλιοθήκης matplotlib για γραφικές παραστάσεις\n",
    "import matplotlib.pyplot as plt \n",
    "\n",
    "omega_val = smp.pi/4 # αντικαταστήστε το 16 με τη δοσμένη τιμή για το ω\n",
    "hbar=1\n",
    "\n",
    "plt.plot(mean_s_x_num(t_space,omega_val),mean_s_y_num(t_space,omega_val))\n",
    "plt.axis(\"equal\") # δοκιμάστε να μετατρέψετε σε σχόλιο τη συγκεκριμένη εντολή και ξανατρέξτε το κελί, τι παρατηρείτε;\n",
    "plt.xlabel(r\"$\\langle \\hat{s}_x \\rangle_t$\")\n",
    "plt.ylabel(r\"$\\langle \\hat{s}_y \\rangle_t$\")\n",
    "plt.show()"
   ]
  },
  {
   "cell_type": "markdown",
   "metadata": {},
   "source": [
    "**Σχολιασμός αποτελέσματος**"
   ]
  },
  {
   "cell_type": "markdown",
   "metadata": {},
   "source": []
  }
 ],
 "metadata": {
  "kernelspec": {
   "display_name": "Python [conda env:base] *",
   "language": "python",
   "name": "conda-base-py"
  },
  "language_info": {
   "codemirror_mode": {
    "name": "ipython",
    "version": 3
   },
   "file_extension": ".py",
   "mimetype": "text/x-python",
   "name": "python",
   "nbconvert_exporter": "python",
   "pygments_lexer": "ipython3",
   "version": "3.12.3"
  }
 },
 "nbformat": 4,
 "nbformat_minor": 4
}
