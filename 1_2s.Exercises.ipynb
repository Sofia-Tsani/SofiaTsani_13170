{
 "cells": [
  {
   "cell_type": "markdown",
   "id": "8c3c73a4-a4cd-4697-8155-f6374a1af906",
   "metadata": {},
   "source": [
    "## Άσκηση 1: Προσομοίωση του Πειράματος Stern-Gerlach"
   ]
  },
  {
   "cell_type": "markdown",
   "id": "545e9e10-c7aa-4aec-be92-d2b38ca9d5ca",
   "metadata": {},
   "source": [
    "Το Πείραμα Stern-Gerlach δείχνει ότι το spin του ηλεκτρονίου είναι κβαντισμένο. Οι πιθανές τιμές μέτρησης του spin κατά τον άξονα z είναι +ħ/2 ή -ħ/2.\n",
    "\n",
    "Γράψτε ένα πρόγραμμα Python που να προσομοιώνει μία απλή κβαντική μέτρηση:\n",
    "\n",
    "- Δημιουργήστε 20 τυχαίες μετρήσεις του spin (είτε +ħ/2 είτε -ħ/2).\n",
    "- Εκτυπώστε τις μετρήσεις.\n",
    "- Μετρήστε και εμφανίστε πόσες φορές εμφανίστηκε κάθε αποτέλεσμα.\n",
    "\n",
    "Υπόδειξη: Χρησιμοποιήστε τη συνάρτηση random.choice με τις τιμές [\"+ħ/2\", \"-ħ/2\"]."
   ]
  },
  {
   "cell_type": "code",
   "execution_count": null,
   "id": "58fa8e48-ed64-48b4-9366-d8639c997328",
   "metadata": {},
   "outputs": [],
   "source": [
    "import random  # Εισαγωγή της βιβλιοθήκης για τυχαίες επιλογές\n",
    "\n",
    "# Σταθερά Planck (ħ)\n",
    "hbar = 1.055e-34 \n",
    "\n",
    "# Δημιουργία λίστας με πιθανά αποτελέσματα μέτρησης του spin (+ħ/2 ή -ħ/2)\n",
    "spin_values = [hbar/2,-hbar/2]\n",
    "\n",
    "# Δημιουργία κενής λίστας για την αποθήκευση των μετρήσεων\n",
    "measurements = []\n",
    "\n",
    "spinup=0\n",
    "spindown=0\n",
    "\n",
    "# Δημιουργία 20 τυχαίων μετρήσεων spin (Χρήση της choice από το module random)\n",
    "for i in range(20):\n",
    "    spin = random.choice(spin_values)  # Επιλογή τυχαίας τιμής spin\n",
    "    measurements.append(spin)  # Προσθήκη της τιμής στη λίστα\n",
    "    if spin>0:\n",
    "        spinup=spinup+1\n",
    "    else:\n",
    "        spindown=spindown+1\n",
    "    \n",
    "# Εκτύπωση των αποτελεσμάτων\n",
    "print(\"Μετρήσεις spin:\", measurements)\n",
    "print(\"spin up:\",spinup,\"φορές\")\n",
    "print(\"spin down\",spindown,\"φορές\")\n"
   ]
  },
  {
   "cell_type": "code",
   "execution_count": null,
   "id": "047def13-3d12-46c6-a431-f672e037f8ae",
   "metadata": {},
   "outputs": [],
   "source": [
    "list(range(20))"
   ]
  },
  {
   "cell_type": "code",
   "execution_count": null,
   "id": "4836d1a6-41ac-463b-9b88-a9562522ae29",
   "metadata": {},
   "outputs": [],
   "source": [
    "## Άσκηση 2: Υπολογισμός Κινητικής Ενέργειας Σωματιδίου σε Φρέαρ Δυναμικού"
   ]
  },
  {
   "cell_type": "markdown",
   "id": "0e9fca4e-db57-4e06-845d-abe56857e452",
   "metadata": {},
   "source": [
    "΅Ενα σωματίδιο παγιδευμένο σε ένα φρεαρ δυναμικού μήκους L έχει επιτρεπτές τιμές κινητικής ενέργειας που δίνονται από τη σχέση:\n",
    "\n",
    "$$E_n=\\frac{n^2h^2}{8mL^2}$$\n",
    "\n",
    "όπου:\n",
    "\n",
    "    n είναι ο κβαντικός αριθμός (n=1,2,3,…)\n",
    "    h είναι η σταθερά του Planck (h=6.626×10−34 J·s)\n",
    "    m είναι η μάζα του σωματιδίου (π.χ. ηλεκτρόνιο: 9.109×10−31 kg)\n",
    "    L είναι το μήκος του κουτιού (ας πάρουμε L=1×10−9 m)\n",
    "\n",
    "1. Υπολόγισε την κινητική ενέργεια για τις πρώτες 3 κβαντικές καταστάσεις n=1,2,3 να το σωματίδιο είναι ηλεκτρόνιο\n",
    "2. Αποθήκευσε τα αποτελέσματα σε μια λίστα από tuples με τη μορφή:\n",
    "\n",
    "    $(n,E_n)$\n",
    "\n",
    "3. Εκτύπωσε τα αποτελέσματα σε μορφή πίνακα."
   ]
  },
  {
   "cell_type": "code",
   "execution_count": null,
   "id": "85a581fc-5f2b-4050-8483-30242e9366c9",
   "metadata": {},
   "outputs": [],
   "source": [
    "# Σταθερές\n",
    "h = 6.626e-34  # J·s (Σταθερά του Planck)\n",
    "m = 9.109e-31  # kg (Μάζα ηλεκτρονίου)\n",
    "L = 1e-9       # m (Μήκος κουτιού)\n",
    "\n",
    "# Κενή Λίστα για αποθήκευση των ενεργειακών επιπέδων\n",
    "energy_levels = []\n",
    "\n",
    "# Υπολογισμός ενεργειών για τις πρώτες 3 στάθμες\n",
    "for n in range(3): range  # n = 1, 2, 3\n",
    "    E_n =  (n**2 * h**2) / (8 * m * L**2)    # Υπολογισμός ενέργειας\n",
    "    energy_levels.append(\"energy:\",E_n)  # Προσθήκη στη λίστα ως tuple\n",
    "\n",
    "# Εκτύπωση αποτελεσμάτων \n",
    "print(\"Κβαντικός αριθμός | Ενέργεια (J)\")\n",
    "print(\"---------------------------------\")\n",
    "for l in energy_levels:\n",
    "# ^ σημαινει στοιχιση στο κέντρο και 15 το συνολικό πλατος θα ειναι 15 χαρακτήρες,\n",
    "#    .3e επιστημονική εκτύπωση  με 3 δεκαδικά ψηφια\n",
    "    print(f\"{l[0]:^15} | {l[1]:.3e}\")\n"
   ]
  },
  {
   "cell_type": "code",
   "execution_count": null,
   "id": "6b86f7b4-11b3-447b-953d-abd382064dd4",
   "metadata": {},
   "outputs": [],
   "source": []
  }
 ],
 "metadata": {
  "kernelspec": {
   "display_name": "Python [conda env:base] *",
   "language": "python",
   "name": "conda-base-py"
  },
  "language_info": {
   "codemirror_mode": {
    "name": "ipython",
    "version": 3
   },
   "file_extension": ".py",
   "mimetype": "text/x-python",
   "name": "python",
   "nbconvert_exporter": "python",
   "pygments_lexer": "ipython3",
   "version": "3.12.3"
  }
 },
 "nbformat": 4,
 "nbformat_minor": 5
}
